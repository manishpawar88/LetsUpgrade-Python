{
 "cells": [
  {
   "cell_type": "code",
   "execution_count": 1,
   "metadata": {},
   "outputs": [
    {
     "name": "stdout",
     "output_type": "stream",
     "text": [
      "Requirement already satisfied: cryptography in c:\\users\\10663670\\anaconda3\\lib\\site-packages (3.1.1)\n",
      "Requirement already satisfied: six>=1.4.1 in c:\\users\\10663670\\anaconda3\\lib\\site-packages (from cryptography) (1.15.0)\n",
      "Requirement already satisfied: cffi!=1.11.3,>=1.8 in c:\\users\\10663670\\anaconda3\\lib\\site-packages (from cryptography) (1.14.3)\n",
      "Requirement already satisfied: pycparser in c:\\users\\10663670\\anaconda3\\lib\\site-packages (from cffi!=1.11.3,>=1.8->cryptography) (2.20)\n"
     ]
    }
   ],
   "source": [
    "!pip install cryptography"
   ]
  },
  {
   "cell_type": "code",
   "execution_count": 3,
   "metadata": {},
   "outputs": [],
   "source": [
    "from cryptography.fernet import Fernet\n",
    "\n",
    "def generateKeyPass():\n",
    "    key = Fernet.generate_key()\n",
    "    return key\n",
    "\n",
    "def encryptMessage(message,key):\n",
    "    k = Fernet(key)\n",
    "    encryptedMessage = k.encrypt(message)\n",
    "    return encryptedMessage\n",
    "\n",
    "def decryptMessage(message,key):\n",
    "    k = Fernet(key)\n",
    "    decryptedMessage = k.decrypt(message)\n",
    "    return decryptedMessage\n",
    "    "
   ]
  },
  {
   "cell_type": "raw",
   "metadata": {},
   "source": [
    "# User1 Generates the key and creates the message in ecrypted form"
   ]
  },
  {
   "cell_type": "code",
   "execution_count": 6,
   "metadata": {},
   "outputs": [
    {
     "name": "stdout",
     "output_type": "stream",
     "text": [
      "Encrypted Message :  b'gAAAAABf3GOdzcfgTDIiCbdsPEA9UV_-brJka2Doj5orATSbqggePaV6IXt_aw-5mnXxBF3ct8xO5WbL8Hl9-iV5vZdDqA0aD-ItdyG8ZvPsav-zW3mSYZM='\n",
      "Key :  b'qXzcy9CqcZ0tfwhZoRx68CYndtMsGJWktXUDhQlnrz8='\n"
     ]
    }
   ],
   "source": [
    "key = generateKeyPass()\n",
    "\n",
    "message = b'This is a seceret message'\n",
    "\n",
    "encryptedMessage = encryptMessage(message,key)\n",
    "\n",
    "\n",
    "print('Encrypted Message : ', encryptedMessage)\n",
    "print('Key : ', key)"
   ]
  },
  {
   "cell_type": "raw",
   "metadata": {},
   "source": [
    "# User1 sends the encryptedMessage and key to decrypt in different mail respectively to User2"
   ]
  },
  {
   "cell_type": "code",
   "execution_count": 8,
   "metadata": {},
   "outputs": [
    {
     "name": "stdout",
     "output_type": "stream",
     "text": [
      "b'This is a seceret message'\n"
     ]
    }
   ],
   "source": [
    "message = b'gAAAAABf3GOdzcfgTDIiCbdsPEA9UV_-brJka2Doj5orATSbqggePaV6IXt_aw-5mnXxBF3ct8xO5WbL8Hl9-iV5vZdDqA0aD-ItdyG8ZvPsav-zW3mSYZM='\n",
    "key = b'qXzcy9CqcZ0tfwhZoRx68CYndtMsGJWktXUDhQlnrz8='\n",
    "decryptedMessage = decryptMessage(message,key)\n",
    "print(decryptedMessage)"
   ]
  },
  {
   "cell_type": "code",
   "execution_count": null,
   "metadata": {},
   "outputs": [],
   "source": []
  }
 ],
 "metadata": {
  "kernelspec": {
   "display_name": "Python 3",
   "language": "python",
   "name": "python3"
  },
  "language_info": {
   "codemirror_mode": {
    "name": "ipython",
    "version": 3
   },
   "file_extension": ".py",
   "mimetype": "text/x-python",
   "name": "python",
   "nbconvert_exporter": "python",
   "pygments_lexer": "ipython3",
   "version": "3.8.5"
  }
 },
 "nbformat": 4,
 "nbformat_minor": 4
}
