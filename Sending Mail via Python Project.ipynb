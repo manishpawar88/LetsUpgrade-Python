{
 "cells": [
  {
   "cell_type": "code",
   "execution_count": 1,
   "metadata": {},
   "outputs": [
    {
     "name": "stdout",
     "output_type": "stream",
     "text": [
      "Collecting emails\n",
      "  Downloading emails-0.6-py2.py3-none-any.whl (56 kB)\n",
      "Collecting cssutils\n",
      "  Downloading cssutils-1.0.2-py3-none-any.whl (406 kB)\n",
      "Requirement already satisfied: requests in c:\\users\\10663670\\anaconda3\\lib\\site-packages (from emails) (2.24.0)\n",
      "Collecting premailer\n",
      "  Downloading premailer-3.7.0-py2.py3-none-any.whl (18 kB)\n",
      "Requirement already satisfied: lxml in c:\\users\\10663670\\anaconda3\\lib\\site-packages (from emails) (4.6.1)\n",
      "Requirement already satisfied: python-dateutil in c:\\users\\10663670\\anaconda3\\lib\\site-packages (from emails) (2.8.1)\n",
      "Requirement already satisfied: chardet in c:\\users\\10663670\\anaconda3\\lib\\site-packages (from emails) (3.0.4)\n",
      "Requirement already satisfied: certifi>=2017.4.17 in c:\\users\\10663670\\anaconda3\\lib\\site-packages (from requests->emails) (2020.6.20)\n",
      "Requirement already satisfied: idna<3,>=2.5 in c:\\users\\10663670\\anaconda3\\lib\\site-packages (from requests->emails) (2.10)\n",
      "Requirement already satisfied: urllib3!=1.25.0,!=1.25.1,<1.26,>=1.21.1 in c:\\users\\10663670\\anaconda3\\lib\\site-packages (from requests->emails) (1.25.11)\n",
      "Collecting cachetools\n",
      "  Downloading cachetools-4.2.0-py3-none-any.whl (12 kB)\n",
      "Collecting cssselect\n",
      "  Downloading cssselect-1.1.0-py2.py3-none-any.whl (16 kB)\n",
      "Requirement already satisfied: six>=1.5 in c:\\users\\10663670\\anaconda3\\lib\\site-packages (from python-dateutil->emails) (1.15.0)\n",
      "Installing collected packages: cssutils, cachetools, cssselect, premailer, emails\n",
      "Successfully installed cachetools-4.2.0 cssselect-1.1.0 cssutils-1.0.2 emails-0.6 premailer-3.7.0\n"
     ]
    }
   ],
   "source": [
    "!pip install emails"
   ]
  },
  {
   "cell_type": "code",
   "execution_count": 2,
   "metadata": {},
   "outputs": [],
   "source": [
    "def sendMail(body,subject,fromName,fromEmailId,to,gmailUsername,gmailPassoword):\n",
    "\n",
    "    message = emails.html(html=body,\n",
    "                          subject=subject,\n",
    "                          mail_from=(fromName, fromEmailId))\n",
    "\n",
    "    \n",
    "    mail_via_python = message.send(to=to, \n",
    "                               smtp={'host': 'smtp.gmail.com', \n",
    "                                     'timeout': 5,\n",
    "                                    'port':587,\n",
    "                                    'user':gmailUsername,\n",
    "                                    'password':gmailPassword,\n",
    "                                    'tls':True})\n",
    "    return mail_via_python.status_code"
   ]
  },
  {
   "cell_type": "code",
   "execution_count": null,
   "metadata": {},
   "outputs": [],
   "source": [
    "body = '''p><span style=\"font-family: 'Palatino Linotype', 'Book Antiqua', Palatino, serif;\">Hi Manish,</span></p>\n",
    "<p><span style=\"font-family: 'Palatino Linotype', 'Book Antiqua', Palatino, serif;\">&nbsp; &nbsp; &nbsp; &nbsp; &nbsp; &nbsp; &nbsp;<strong><span style=\"background-color: rgb(247, 218, 100);\">&nbsp;Congratulation!</span></strong> This is your mail sent via Python Script.</span></p>\n",
    "<p><span style=\"font-family: 'Palatino Linotype', 'Book Antiqua', Palatino, serif;\">I have learnt Python with LetsUpgade!</span></p>\n",
    "<p><span style=\"font-family: 'Palatino Linotype', 'Book Antiqua', Palatino, serif;\"><br></span></p>\n",
    "<p><span style=\"font-family: 'Palatino Linotype', 'Book Antiqua', Palatino, serif;\">Regards,</span></p>\n",
    "<p><strong><span style=\"font-family: 'Palatino Linotype', 'Book Antiqua', Palatino, serif;\">Manish</span></strong></p>'''\n",
    "\n",
    "subject = 'Mail via Python'\n",
    "\n",
    "fromName = 'Manish'\n",
    "fromEmailId = 'manish@letsUpgrade.in'\n",
    "\n",
    "to = 'manishpawar@gmail.com'\n",
    "gmailUserName = '' \n",
    "gmailPassword = ''\n",
    "\n",
    "sendMail(body,subject,fromName,fromEmailId,to,gmailUsername,gmailPassword)"
   ]
  }
 ],
 "metadata": {
  "kernelspec": {
   "display_name": "Python 3",
   "language": "python",
   "name": "python3"
  },
  "language_info": {
   "codemirror_mode": {
    "name": "ipython",
    "version": 3
   },
   "file_extension": ".py",
   "mimetype": "text/x-python",
   "name": "python",
   "nbconvert_exporter": "python",
   "pygments_lexer": "ipython3",
   "version": "3.8.5"
  }
 },
 "nbformat": 4,
 "nbformat_minor": 4
}
