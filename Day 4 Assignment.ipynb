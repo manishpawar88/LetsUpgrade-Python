{
 "cells": [
  {
   "cell_type": "markdown",
   "metadata": {},
   "source": [
    "# 1. Write down a program in Python for Opening a File and Writing \" I Love LetsUpgrade\" And close it, and read it back again, and then append some data to it and close it"
   ]
  },
  {
   "cell_type": "code",
   "execution_count": 7,
   "metadata": {},
   "outputs": [
    {
     "name": "stdout",
     "output_type": "stream",
     "text": [
      "Read file before appending\n",
      "I Love LetsUpgrade\n",
      "\n",
      " Read file after appending\n",
      "I Love LetsUpgrade\n",
      "I learn Python\n"
     ]
    }
   ],
   "source": [
    "#Open a file and write some text and close it again\n",
    "file = open('Sample.txt','w')\n",
    "file.write('I Love LetsUpgrade')\n",
    "file.close()\n",
    "\n",
    "#Open the file to read it and append some more data\n",
    "file = open('Sample.txt','r+')\n",
    "print('Read file before appending')\n",
    "print(file.read())\n",
    "\n",
    "file.write('\\nI learn Python')\n",
    "file.close()\n",
    "\n",
    "#Read the appended file\n",
    "file = open('Sample.txt','r')\n",
    "print('\\n Read file after appending')\n",
    "print(file.read())\n",
    "file.close()\n",
    "\n",
    "\n"
   ]
  },
  {
   "cell_type": "markdown",
   "metadata": {},
   "source": [
    "# 2. Write a function which can return a Factorial of any numbers as INT, given in the argument"
   ]
  },
  {
   "cell_type": "code",
   "execution_count": 27,
   "metadata": {},
   "outputs": [
    {
     "name": "stdout",
     "output_type": "stream",
     "text": [
      "Enter a number to get the factorial 5\n",
      "\n",
      "Factorial of 5 is 5 X 4 X 3 X 2 X 1 = 120\n"
     ]
    }
   ],
   "source": [
    "def factorial(num):\n",
    "    global varStr\n",
    "    \n",
    "    if num != 0:\n",
    "        if varStr == '':\n",
    "            varStr = str(num)\n",
    "        else:\n",
    "            varStr = varStr + ' X ' + str(num) \n",
    "    \n",
    "    if num == 0:\n",
    "        return 1\n",
    "    else:\n",
    "        return num * factorial(num-1)\n",
    "\n",
    "num = int(input('Enter a number to get the factorial '))\n",
    "varStr = ''\n",
    "fact = factorial(num)\n",
    "print('\\nFactorial of',num,'is',varStr,'=',fact)\n"
   ]
  },
  {
   "cell_type": "code",
   "execution_count": null,
   "metadata": {},
   "outputs": [],
   "source": []
  }
 ],
 "metadata": {
  "kernelspec": {
   "display_name": "Python 3",
   "language": "python",
   "name": "python3"
  },
  "language_info": {
   "codemirror_mode": {
    "name": "ipython",
    "version": 3
   },
   "file_extension": ".py",
   "mimetype": "text/x-python",
   "name": "python",
   "nbconvert_exporter": "python",
   "pygments_lexer": "ipython3",
   "version": "3.8.5"
  }
 },
 "nbformat": 4,
 "nbformat_minor": 4
}
